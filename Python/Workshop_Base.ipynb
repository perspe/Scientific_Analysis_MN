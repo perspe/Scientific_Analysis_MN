{
 "cells": [
  {
   "cell_type": "markdown",
   "id": "41ae3587-02f8-41da-94b8-76524f2b7a85",
   "metadata": {
    "tags": []
   },
   "source": [
    "# Python Workshop\n",
    "\n",
    "__Author__: Miguel Alexandre"
   ]
  },
  {
   "cell_type": "markdown",
   "id": "005ff85b-fc97-469a-b431-84df5bf1dd18",
   "metadata": {},
   "source": [
    "# What do I need?"
   ]
  },
  {
   "cell_type": "code",
   "execution_count": 7,
   "id": "803aefa3-c20c-447d-a952-a8882591db39",
   "metadata": {},
   "outputs": [],
   "source": [
    "import pandas as pd\n",
    "import numpy as np\n",
    "import matplotlib.pyplot as plt\n",
    "import os\n",
    "%matplotlib inline"
   ]
  },
  {
   "cell_type": "code",
   "execution_count": null,
   "id": "ea15880f-9fe0-4b34-b44d-a6479bb26ba1",
   "metadata": {},
   "outputs": [],
   "source": []
  },
  {
   "cell_type": "code",
   "execution_count": null,
   "id": "5a62b79b-8c1b-499e-9bee-ddc4cc71b966",
   "metadata": {},
   "outputs": [],
   "source": []
  },
  {
   "cell_type": "markdown",
   "id": "fbef1536-a968-4445-8a8b-c6183aed0617",
   "metadata": {
    "jp-MarkdownHeadingCollapsed": true
   },
   "source": [
    "# Where are my files??"
   ]
  },
  {
   "cell_type": "code",
   "execution_count": 4,
   "id": "df5c4ecc-c377-4477-a305-52cba19cb3bf",
   "metadata": {},
   "outputs": [
    {
     "name": "stdout",
     "output_type": "stream",
     "text": [
      "\u001b[0m\u001b[01;34massets\u001b[0m/                            \u001b[01;35mfirst_fig.svg\u001b[0m\n",
      "\u001b[01;34mCell_Characterization\u001b[0m/             \u001b[01;34mQD_Characterization\u001b[0m/\n",
      "\u001b[01;34mCell_Electrical_Characterization\u001b[0m/  \u001b[01;34mViscosidade\u001b[0m/\n",
      "\u001b[01;34mDRX\u001b[0m/                               Workshop_Base.ipynb\n",
      "\u001b[01;34mEllipsometry\u001b[0m/                      Workshop_Solutions.html\n",
      "\u001b[01;35mfirst_fig.png\u001b[0m                      Workshop_Solutions.ipynb\n"
     ]
    }
   ],
   "source": []
  },
  {
   "cell_type": "markdown",
   "id": "02c9c0df-11f1-4f4f-85bc-2c05f33f9e19",
   "metadata": {
    "tags": []
   },
   "source": [
    "# How to import data?"
   ]
  },
  {
   "cell_type": "code",
   "execution_count": 1,
   "id": "294b95b5-4fe8-42bc-9db8-46782c46388f",
   "metadata": {
    "tags": []
   },
   "outputs": [
    {
     "data": {
      "text/html": [
       "<iframe src=\"https://pandas.pydata.org/docs/reference/api/pandas.read_csv.html\" width=\"1200\" height=\"1000\"></iframe>\n"
      ],
      "text/plain": [
       "<IPython.core.display.HTML object>"
      ]
     },
     "metadata": {},
     "output_type": "display_data"
    }
   ],
   "source": [
    "%%html\n",
    "<iframe src=\"https://pandas.pydata.org/docs/reference/api/pandas.read_csv.html\" width=\"1200\" height=\"1000\"></iframe>"
   ]
  },
  {
   "cell_type": "markdown",
   "id": "76b3893a-3f7e-455a-85f2-235a8eba2306",
   "metadata": {},
   "source": [
    "# Handling Data"
   ]
  },
  {
   "cell_type": "markdown",
   "id": "e34827ea-4fb5-4d79-b39d-fd85d7afea0b",
   "metadata": {},
   "source": [
    "## First Example\n",
    "\n",
    "To edit data it is fundamental to first open the file and check if everything  is ok, and all the necessary properties to consider, such as the data separators, lines to ignore, how the data is setup, the decimal delimiter\n",
    "\n",
    "**Import and plot the data in \"Cell_Characterization/Spectrophotometry/Rd_Flat-Si_600nmTiO2_100s.Sample.Raw.csv\"**"
   ]
  },
  {
   "cell_type": "markdown",
   "id": "de8273a6-91ad-46e6-b298-d6925c7ef8bd",
   "metadata": {},
   "source": [
    "# Anatomy of a Figure"
   ]
  },
  {
   "cell_type": "markdown",
   "id": "87e96c0c-f4fa-4d47-b74c-236a825cd352",
   "metadata": {},
   "source": [
    "![Anatomy of a Matplotlib Figure](./assets/mpl_plot.png)"
   ]
  },
  {
   "cell_type": "markdown",
   "id": "1660b7dd-96de-46de-87ac-af7f0b2cb5e1",
   "metadata": {},
   "source": [
    "## Exercice 1"
   ]
  },
  {
   "cell_type": "markdown",
   "id": "9ab86bb2-527e-4d60-8ac1-89e9e7fcecd9",
   "metadata": {},
   "source": [
    "__Exercise 1.1*:__ Import the DRX data in \"QD_Characterization/G211014B_dropcastfilm.txt\" and plot it (Angle vs Intensity)"
   ]
  },
  {
   "cell_type": "markdown",
   "id": "5beb1059-64dc-4580-8065-c42b8c66b3a5",
   "metadata": {},
   "source": [
    "__Exercise 1.2__*: Import and plot the spectrophotometry data in \"Cell_Characterization/Spectrophotometry_2\"\n",
    "\n",
    "The plot should be the Reflection/Transmission vs Wavelength"
   ]
  },
  {
   "cell_type": "markdown",
   "id": "dde2d831-6afb-4f6b-b226-ad03f92a374a",
   "metadata": {},
   "source": [
    "__Exercise 1.3__*: Import the DRX data in \"DRX/\\*.txt\" and make an intensity offset plot for each data with different cycles"
   ]
  },
  {
   "cell_type": "markdown",
   "id": "b4e30567-f4b4-4cae-a127-8cd1b36579f2",
   "metadata": {},
   "source": [
    "__Exercise 1.4*:__ Import the absorption data in \"QD_Characterization/020223_dots.csv\" and plot it for each sample (Wavelength vs Absorption)"
   ]
  },
  {
   "cell_type": "markdown",
   "id": "44ddd132-25f2-4f9d-96a9-605e6fe25e09",
   "metadata": {},
   "source": [
    "# Exercise 2* - But I have many files..\n",
    "\n",
    "Considering the files in the \"Cell_Characterization/Spectrophotometry\" folder, make one plot showing the data for the files with \"Rd\", \"Td\", \"Rt\" and \"Tt\" (namelly the diffuse reflectance, diffuse transmitance, total reflectance and total transmitance) for one of the thicknesses (600 nm) and for all the times (Ref, 100, 200 and 300 s)"
   ]
  },
  {
   "cell_type": "markdown",
   "id": "efe6c83a-ee17-4681-b1c9-26d694cd64f7",
   "metadata": {
    "editable": true,
    "slideshow": {
     "slide_type": ""
    },
    "tags": []
   },
   "source": [
    "# Exercise 3** - Those strange files...\n",
    "\n",
    "Consider the file \"QD_Characterization/! I_V-t Sampling [(1) ; 14_02_2023 13_26_50].csv\", with the current per time for two different samples (I1 and I2) measured twice (top data and bottom data).\n",
    "\n",
    "Plot the current vs time for both samples for the two measurements."
   ]
  },
  {
   "cell_type": "markdown",
   "id": "66478c20-a6c4-460b-bf0b-4f78589a6df5",
   "metadata": {},
   "source": [
    "# Exercise 4*** - Many coupled files\n",
    "\n",
    "The data is all provided in \"Cell_Electrical_Characterization\".\n",
    "\n",
    "Each file has the Voltage (V), Current (I) and Power (P) measurements for the following setup:\n",
    "\n",
    "4 cells, each with 3 contacts. Each file represents the measurements between the combinations of the 3 contacts for each cell. The file name is built thus as \"c{cell_number}t{contact1}{contact2}.txt\"\n",
    "\n",
    "![Contacts](assets/rui_cells.png)\n",
    "\n",
    "Import the data for all measurements and summarize in a single profile the Pmax for each combination of contacts and for each cell, also adding the average and standard deviation of all the measurements for each cell."
   ]
  },
  {
   "cell_type": "code",
   "execution_count": null,
   "id": "32d6d99e-96a4-4b07-8efd-fd21909bfa01",
   "metadata": {},
   "outputs": [],
   "source": []
  },
  {
   "cell_type": "markdown",
   "id": "e022c47a-14f0-4b66-9120-606d27b7e5e1",
   "metadata": {},
   "source": [
    "# Exercise 5"
   ]
  },
  {
   "cell_type": "markdown",
   "id": "4a103d54-3f9a-4ef4-99f7-ba98faee736a",
   "metadata": {},
   "source": [
    "## Exercise 5.1 **\n",
    "\n",
    "The folder \"Cell_Characterization/Polars\" contains the angular IV measurements (from 10 to 90 degrees) for 4 different cell thicknesses (Ref, 400, 500 and 800 nm)\n",
    "\n",
    "Excluding the \"Ref\" results, make 1 profile for each thickness with the IV curves for all angles."
   ]
  },
  {
   "cell_type": "markdown",
   "id": "189c7868-8612-4c44-b1eb-192bd8de9f01",
   "metadata": {},
   "source": [
    "## Exercise 5.2 ***\n",
    "\n",
    "For the same data of Exercise 5.1, calculate for each dataset the Voc, Isc, Efficiency and Fill factor of each measurement and make a polar plot of each of those variables with the angular data for each cell thickness."
   ]
  },
  {
   "cell_type": "markdown",
   "id": "520d7c82-56a2-4ae2-b20e-60eb8b3d9b7a",
   "metadata": {},
   "source": [
    "# Exercise 6 **** - Complicated files\n",
    "\n",
    "Import and plot the 1/s (x axis) and mPa.s (y axis) data from \"Viscosidade/reol_13.02.2023.csv\", for all the different measurements in the file."
   ]
  },
  {
   "cell_type": "markdown",
   "id": "4c5d8f99-3362-4193-b40c-6401dd5511a4",
   "metadata": {},
   "source": [
    "# Exercise 7 - Importing data necessary for other calculations\n",
    "\n",
    "Use the ellipsometry data in \"Ellipsometry\" to extract the modeled results for "
   ]
  },
  {
   "cell_type": "code",
   "execution_count": null,
   "id": "d63abe4c-fe64-4798-81c5-84b87f8dedfc",
   "metadata": {},
   "outputs": [],
   "source": []
  }
 ],
 "metadata": {
  "kernelspec": {
   "display_name": "Python 3 (ipykernel)",
   "language": "python",
   "name": "python3"
  },
  "language_info": {
   "codemirror_mode": {
    "name": "ipython",
    "version": 3
   },
   "file_extension": ".py",
   "mimetype": "text/x-python",
   "name": "python",
   "nbconvert_exporter": "python",
   "pygments_lexer": "ipython3",
   "version": "3.12.4"
  }
 },
 "nbformat": 4,
 "nbformat_minor": 5
}
